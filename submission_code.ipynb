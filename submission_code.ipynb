{
 "cells": [
  {
   "cell_type": "markdown",
   "id": "788ca8f3",
   "metadata": {},
   "source": [
    "# LLM fine-tuning"
   ]
  }
 ],
 "metadata": {
  "kernelspec": {
   "display_name": "main",
   "language": "python",
   "name": "python3"
  },
  "language_info": {
   "name": "python",
   "version": "3.13.5"
  }
 },
 "nbformat": 4,
 "nbformat_minor": 5
}
